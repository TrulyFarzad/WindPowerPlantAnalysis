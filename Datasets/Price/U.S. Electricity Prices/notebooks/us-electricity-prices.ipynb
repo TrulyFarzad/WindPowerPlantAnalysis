{
 "cells": [
  {
   "cell_type": "code",
   "execution_count": 1,
   "id": "48d5a03a",
   "metadata": {
    "_cell_guid": "b1076dfc-b9ad-4769-8c92-a6c4dae69d19",
    "_uuid": "8f2839f25d086af736a60e9eeb907d3b93b6e0e5",
    "execution": {
     "iopub.execute_input": "2024-04-08T09:13:20.909853Z",
     "iopub.status.busy": "2024-04-08T09:13:20.908655Z",
     "iopub.status.idle": "2024-04-08T09:13:21.953173Z",
     "shell.execute_reply": "2024-04-08T09:13:21.951831Z"
    },
    "papermill": {
     "duration": 1.059766,
     "end_time": "2024-04-08T09:13:21.955799",
     "exception": false,
     "start_time": "2024-04-08T09:13:20.896033",
     "status": "completed"
    },
    "tags": []
   },
   "outputs": [
    {
     "name": "stdout",
     "output_type": "stream",
     "text": [
      "/kaggle/input/electricity-prices/clean_data.csv\n"
     ]
    }
   ],
   "source": [
    "# This Python 3 environment comes with many helpful analytics libraries installed\n",
    "# It is defined by the kaggle/python Docker image: https://github.com/kaggle/docker-python\n",
    "# For example, here's several helpful packages to load\n",
    "\n",
    "import numpy as np # linear algebra\n",
    "import pandas as pd # data processing, CSV file I/O (e.g. pd.read_csv)\n",
    "\n",
    "# Input data files are available in the read-only \"../input/\" directory\n",
    "# For example, running this (by clicking run or pressing Shift+Enter) will list all files under the input directory\n",
    "\n",
    "import os\n",
    "for dirname, _, filenames in os.walk('/kaggle/input'):\n",
    "    for filename in filenames:\n",
    "        print(os.path.join(dirname, filename))\n",
    "\n",
    "# You can write up to 20GB to the current directory (/kaggle/working/) that gets preserved as output when you create a version using \"Save & Run All\" \n",
    "# You can also write temporary files to /kaggle/temp/, but they won't be saved outside of the current session"
   ]
  },
  {
   "cell_type": "markdown",
   "id": "08f77486",
   "metadata": {
    "papermill": {
     "duration": 0.008862,
     "end_time": "2024-04-08T09:13:21.974429",
     "exception": false,
     "start_time": "2024-04-08T09:13:21.965567",
     "status": "completed"
    },
    "tags": []
   },
   "source": [
    "***Import dataset***"
   ]
  },
  {
   "cell_type": "code",
   "execution_count": 2,
   "id": "1b84e00f",
   "metadata": {
    "execution": {
     "iopub.execute_input": "2024-04-08T09:13:21.995063Z",
     "iopub.status.busy": "2024-04-08T09:13:21.994499Z",
     "iopub.status.idle": "2024-04-08T09:13:22.168924Z",
     "shell.execute_reply": "2024-04-08T09:13:22.167754Z"
    },
    "papermill": {
     "duration": 0.18785,
     "end_time": "2024-04-08T09:13:22.171595",
     "exception": false,
     "start_time": "2024-04-08T09:13:21.983745",
     "status": "completed"
    },
    "tags": []
   },
   "outputs": [],
   "source": [
    "df=pd.read_csv('/kaggle/input/electricity-prices/clean_data.csv')"
   ]
  },
  {
   "cell_type": "markdown",
   "id": "6f12e1b5",
   "metadata": {
    "papermill": {
     "duration": 0.010567,
     "end_time": "2024-04-08T09:13:22.191610",
     "exception": false,
     "start_time": "2024-04-08T09:13:22.181043",
     "status": "completed"
    },
    "tags": []
   },
   "source": [
    "***Showing head columns***"
   ]
  },
  {
   "cell_type": "code",
   "execution_count": 3,
   "id": "43657782",
   "metadata": {
    "execution": {
     "iopub.execute_input": "2024-04-08T09:13:22.212083Z",
     "iopub.status.busy": "2024-04-08T09:13:22.211678Z",
     "iopub.status.idle": "2024-04-08T09:13:22.236372Z",
     "shell.execute_reply": "2024-04-08T09:13:22.235161Z"
    },
    "papermill": {
     "duration": 0.037929,
     "end_time": "2024-04-08T09:13:22.238769",
     "exception": false,
     "start_time": "2024-04-08T09:13:22.200840",
     "status": "completed"
    },
    "tags": []
   },
   "outputs": [
    {
     "data": {
      "text/html": [
       "<div>\n",
       "<style scoped>\n",
       "    .dataframe tbody tr th:only-of-type {\n",
       "        vertical-align: middle;\n",
       "    }\n",
       "\n",
       "    .dataframe tbody tr th {\n",
       "        vertical-align: top;\n",
       "    }\n",
       "\n",
       "    .dataframe thead th {\n",
       "        text-align: right;\n",
       "    }\n",
       "</style>\n",
       "<table border=\"1\" class=\"dataframe\">\n",
       "  <thead>\n",
       "    <tr style=\"text-align: right;\">\n",
       "      <th></th>\n",
       "      <th>year</th>\n",
       "      <th>month</th>\n",
       "      <th>stateDescription</th>\n",
       "      <th>sectorName</th>\n",
       "      <th>customers</th>\n",
       "      <th>price</th>\n",
       "      <th>revenue</th>\n",
       "      <th>sales</th>\n",
       "    </tr>\n",
       "  </thead>\n",
       "  <tbody>\n",
       "    <tr>\n",
       "      <th>0</th>\n",
       "      <td>2001</td>\n",
       "      <td>1</td>\n",
       "      <td>Wyoming</td>\n",
       "      <td>all sectors</td>\n",
       "      <td>NaN</td>\n",
       "      <td>4.31</td>\n",
       "      <td>48.12840</td>\n",
       "      <td>1116.17208</td>\n",
       "    </tr>\n",
       "    <tr>\n",
       "      <th>1</th>\n",
       "      <td>2001</td>\n",
       "      <td>1</td>\n",
       "      <td>Wyoming</td>\n",
       "      <td>commercial</td>\n",
       "      <td>NaN</td>\n",
       "      <td>5.13</td>\n",
       "      <td>12.67978</td>\n",
       "      <td>247.08691</td>\n",
       "    </tr>\n",
       "    <tr>\n",
       "      <th>2</th>\n",
       "      <td>2001</td>\n",
       "      <td>1</td>\n",
       "      <td>Wyoming</td>\n",
       "      <td>industrial</td>\n",
       "      <td>NaN</td>\n",
       "      <td>3.26</td>\n",
       "      <td>19.60858</td>\n",
       "      <td>602.30484</td>\n",
       "    </tr>\n",
       "    <tr>\n",
       "      <th>3</th>\n",
       "      <td>2001</td>\n",
       "      <td>1</td>\n",
       "      <td>Wyoming</td>\n",
       "      <td>other</td>\n",
       "      <td>NaN</td>\n",
       "      <td>4.75</td>\n",
       "      <td>0.76868</td>\n",
       "      <td>16.17442</td>\n",
       "    </tr>\n",
       "    <tr>\n",
       "      <th>4</th>\n",
       "      <td>2001</td>\n",
       "      <td>1</td>\n",
       "      <td>Wyoming</td>\n",
       "      <td>residential</td>\n",
       "      <td>NaN</td>\n",
       "      <td>6.01</td>\n",
       "      <td>15.07136</td>\n",
       "      <td>250.60591</td>\n",
       "    </tr>\n",
       "  </tbody>\n",
       "</table>\n",
       "</div>"
      ],
      "text/plain": [
       "   year  month stateDescription   sectorName  customers  price   revenue  \\\n",
       "0  2001      1          Wyoming  all sectors        NaN   4.31  48.12840   \n",
       "1  2001      1          Wyoming   commercial        NaN   5.13  12.67978   \n",
       "2  2001      1          Wyoming   industrial        NaN   3.26  19.60858   \n",
       "3  2001      1          Wyoming        other        NaN   4.75   0.76868   \n",
       "4  2001      1          Wyoming  residential        NaN   6.01  15.07136   \n",
       "\n",
       "        sales  \n",
       "0  1116.17208  \n",
       "1   247.08691  \n",
       "2   602.30484  \n",
       "3    16.17442  \n",
       "4   250.60591  "
      ]
     },
     "execution_count": 3,
     "metadata": {},
     "output_type": "execute_result"
    }
   ],
   "source": [
    "df.head()"
   ]
  },
  {
   "cell_type": "markdown",
   "id": "ddfb1ab3",
   "metadata": {
    "papermill": {
     "duration": 0.010095,
     "end_time": "2024-04-08T09:13:22.259220",
     "exception": false,
     "start_time": "2024-04-08T09:13:22.249125",
     "status": "completed"
    },
    "tags": []
   },
   "source": [
    "***Check shape of dataset***"
   ]
  },
  {
   "cell_type": "code",
   "execution_count": 4,
   "id": "0a001d0f",
   "metadata": {
    "execution": {
     "iopub.execute_input": "2024-04-08T09:13:22.281023Z",
     "iopub.status.busy": "2024-04-08T09:13:22.280238Z",
     "iopub.status.idle": "2024-04-08T09:13:22.287455Z",
     "shell.execute_reply": "2024-04-08T09:13:22.286155Z"
    },
    "papermill": {
     "duration": 0.021295,
     "end_time": "2024-04-08T09:13:22.290126",
     "exception": false,
     "start_time": "2024-04-08T09:13:22.268831",
     "status": "completed"
    },
    "tags": []
   },
   "outputs": [
    {
     "data": {
      "text/plain": [
       "(85870, 8)"
      ]
     },
     "execution_count": 4,
     "metadata": {},
     "output_type": "execute_result"
    }
   ],
   "source": [
    "df.shape"
   ]
  },
  {
   "cell_type": "markdown",
   "id": "7729326e",
   "metadata": {
    "papermill": {
     "duration": 0.009738,
     "end_time": "2024-04-08T09:13:22.309594",
     "exception": false,
     "start_time": "2024-04-08T09:13:22.299856",
     "status": "completed"
    },
    "tags": []
   },
   "source": [
    "***information about the data***"
   ]
  },
  {
   "cell_type": "code",
   "execution_count": 5,
   "id": "acd73cec",
   "metadata": {
    "execution": {
     "iopub.execute_input": "2024-04-08T09:13:22.331404Z",
     "iopub.status.busy": "2024-04-08T09:13:22.331003Z",
     "iopub.status.idle": "2024-04-08T09:13:22.374534Z",
     "shell.execute_reply": "2024-04-08T09:13:22.372753Z"
    },
    "papermill": {
     "duration": 0.057854,
     "end_time": "2024-04-08T09:13:22.377184",
     "exception": false,
     "start_time": "2024-04-08T09:13:22.319330",
     "status": "completed"
    },
    "tags": []
   },
   "outputs": [
    {
     "name": "stdout",
     "output_type": "stream",
     "text": [
      "<class 'pandas.core.frame.DataFrame'>\n",
      "RangeIndex: 85870 entries, 0 to 85869\n",
      "Data columns (total 8 columns):\n",
      " #   Column            Non-Null Count  Dtype  \n",
      "---  ------            --------------  -----  \n",
      " 0   year              85870 non-null  int64  \n",
      " 1   month             85870 non-null  int64  \n",
      " 2   stateDescription  85870 non-null  object \n",
      " 3   sectorName        85870 non-null  object \n",
      " 4   customers         59830 non-null  float64\n",
      " 5   price             85870 non-null  float64\n",
      " 6   revenue           85870 non-null  float64\n",
      " 7   sales             85870 non-null  float64\n",
      "dtypes: float64(4), int64(2), object(2)\n",
      "memory usage: 5.2+ MB\n"
     ]
    }
   ],
   "source": [
    "df.info()"
   ]
  },
  {
   "cell_type": "markdown",
   "id": "1ed26168",
   "metadata": {
    "papermill": {
     "duration": 0.009522,
     "end_time": "2024-04-08T09:13:22.397011",
     "exception": false,
     "start_time": "2024-04-08T09:13:22.387489",
     "status": "completed"
    },
    "tags": []
   },
   "source": [
    "***Check NULL value in dataset***"
   ]
  },
  {
   "cell_type": "code",
   "execution_count": 6,
   "id": "509ab7c7",
   "metadata": {
    "execution": {
     "iopub.execute_input": "2024-04-08T09:13:22.418646Z",
     "iopub.status.busy": "2024-04-08T09:13:22.418177Z",
     "iopub.status.idle": "2024-04-08T09:13:22.436658Z",
     "shell.execute_reply": "2024-04-08T09:13:22.435515Z"
    },
    "papermill": {
     "duration": 0.032025,
     "end_time": "2024-04-08T09:13:22.438832",
     "exception": false,
     "start_time": "2024-04-08T09:13:22.406807",
     "status": "completed"
    },
    "tags": []
   },
   "outputs": [
    {
     "data": {
      "text/plain": [
       "year                    0\n",
       "month                   0\n",
       "stateDescription        0\n",
       "sectorName              0\n",
       "customers           26040\n",
       "price                   0\n",
       "revenue                 0\n",
       "sales                   0\n",
       "dtype: int64"
      ]
     },
     "execution_count": 6,
     "metadata": {},
     "output_type": "execute_result"
    }
   ],
   "source": [
    "df.isnull().sum()"
   ]
  },
  {
   "cell_type": "markdown",
   "id": "a636601b",
   "metadata": {
    "papermill": {
     "duration": 0.009714,
     "end_time": "2024-04-08T09:13:22.458410",
     "exception": false,
     "start_time": "2024-04-08T09:13:22.448696",
     "status": "completed"
    },
    "tags": []
   },
   "source": [
    "***Drop customer columns***"
   ]
  },
  {
   "cell_type": "code",
   "execution_count": 7,
   "id": "dac31305",
   "metadata": {
    "execution": {
     "iopub.execute_input": "2024-04-08T09:13:22.480931Z",
     "iopub.status.busy": "2024-04-08T09:13:22.480528Z",
     "iopub.status.idle": "2024-04-08T09:13:22.492833Z",
     "shell.execute_reply": "2024-04-08T09:13:22.491684Z"
    },
    "papermill": {
     "duration": 0.027145,
     "end_time": "2024-04-08T09:13:22.495406",
     "exception": false,
     "start_time": "2024-04-08T09:13:22.468261",
     "status": "completed"
    },
    "tags": []
   },
   "outputs": [],
   "source": [
    "df.drop(columns='customers',inplace=True)"
   ]
  },
  {
   "cell_type": "markdown",
   "id": "d969c0f8",
   "metadata": {
    "papermill": {
     "duration": 0.009719,
     "end_time": "2024-04-08T09:13:22.515564",
     "exception": false,
     "start_time": "2024-04-08T09:13:22.505845",
     "status": "completed"
    },
    "tags": []
   },
   "source": [
    "***Showing random data***"
   ]
  },
  {
   "cell_type": "code",
   "execution_count": 8,
   "id": "14f9da90",
   "metadata": {
    "execution": {
     "iopub.execute_input": "2024-04-08T09:13:22.537853Z",
     "iopub.status.busy": "2024-04-08T09:13:22.537402Z",
     "iopub.status.idle": "2024-04-08T09:13:22.558530Z",
     "shell.execute_reply": "2024-04-08T09:13:22.557160Z"
    },
    "papermill": {
     "duration": 0.03537,
     "end_time": "2024-04-08T09:13:22.560777",
     "exception": false,
     "start_time": "2024-04-08T09:13:22.525407",
     "status": "completed"
    },
    "tags": []
   },
   "outputs": [
    {
     "data": {
      "text/html": [
       "<div>\n",
       "<style scoped>\n",
       "    .dataframe tbody tr th:only-of-type {\n",
       "        vertical-align: middle;\n",
       "    }\n",
       "\n",
       "    .dataframe tbody tr th {\n",
       "        vertical-align: top;\n",
       "    }\n",
       "\n",
       "    .dataframe thead th {\n",
       "        text-align: right;\n",
       "    }\n",
       "</style>\n",
       "<table border=\"1\" class=\"dataframe\">\n",
       "  <thead>\n",
       "    <tr style=\"text-align: right;\">\n",
       "      <th></th>\n",
       "      <th>year</th>\n",
       "      <th>month</th>\n",
       "      <th>stateDescription</th>\n",
       "      <th>sectorName</th>\n",
       "      <th>price</th>\n",
       "      <th>revenue</th>\n",
       "      <th>sales</th>\n",
       "    </tr>\n",
       "  </thead>\n",
       "  <tbody>\n",
       "    <tr>\n",
       "      <th>55711</th>\n",
       "      <td>2015</td>\n",
       "      <td>12</td>\n",
       "      <td>Montana</td>\n",
       "      <td>all sectors</td>\n",
       "      <td>8.65</td>\n",
       "      <td>114.46110</td>\n",
       "      <td>1323.51628</td>\n",
       "    </tr>\n",
       "    <tr>\n",
       "      <th>21127</th>\n",
       "      <td>2006</td>\n",
       "      <td>9</td>\n",
       "      <td>Virginia</td>\n",
       "      <td>all sectors</td>\n",
       "      <td>6.99</td>\n",
       "      <td>603.44651</td>\n",
       "      <td>8631.28892</td>\n",
       "    </tr>\n",
       "    <tr>\n",
       "      <th>9173</th>\n",
       "      <td>2003</td>\n",
       "      <td>6</td>\n",
       "      <td>California</td>\n",
       "      <td>all sectors</td>\n",
       "      <td>13.00</td>\n",
       "      <td>2616.01006</td>\n",
       "      <td>20122.93697</td>\n",
       "    </tr>\n",
       "    <tr>\n",
       "      <th>18010</th>\n",
       "      <td>2005</td>\n",
       "      <td>11</td>\n",
       "      <td>U.S. Total</td>\n",
       "      <td>industrial</td>\n",
       "      <td>5.83</td>\n",
       "      <td>4871.57247</td>\n",
       "      <td>83512.20261</td>\n",
       "    </tr>\n",
       "    <tr>\n",
       "      <th>53477</th>\n",
       "      <td>2015</td>\n",
       "      <td>5</td>\n",
       "      <td>Oklahoma</td>\n",
       "      <td>commercial</td>\n",
       "      <td>7.37</td>\n",
       "      <td>124.42522</td>\n",
       "      <td>1689.20988</td>\n",
       "    </tr>\n",
       "  </tbody>\n",
       "</table>\n",
       "</div>"
      ],
      "text/plain": [
       "       year  month stateDescription   sectorName  price     revenue  \\\n",
       "55711  2015     12          Montana  all sectors   8.65   114.46110   \n",
       "21127  2006      9         Virginia  all sectors   6.99   603.44651   \n",
       "9173   2003      6       California  all sectors  13.00  2616.01006   \n",
       "18010  2005     11       U.S. Total   industrial   5.83  4871.57247   \n",
       "53477  2015      5         Oklahoma   commercial   7.37   124.42522   \n",
       "\n",
       "             sales  \n",
       "55711   1323.51628  \n",
       "21127   8631.28892  \n",
       "9173   20122.93697  \n",
       "18010  83512.20261  \n",
       "53477   1689.20988  "
      ]
     },
     "execution_count": 8,
     "metadata": {},
     "output_type": "execute_result"
    }
   ],
   "source": [
    "df.sample(5)"
   ]
  },
  {
   "cell_type": "markdown",
   "id": "5cc68a46",
   "metadata": {
    "papermill": {
     "duration": 0.009882,
     "end_time": "2024-04-08T09:13:22.580763",
     "exception": false,
     "start_time": "2024-04-08T09:13:22.570881",
     "status": "completed"
    },
    "tags": []
   },
   "source": [
    "***Covert month by month name for better understanding***"
   ]
  },
  {
   "cell_type": "code",
   "execution_count": 9,
   "id": "672a3519",
   "metadata": {
    "execution": {
     "iopub.execute_input": "2024-04-08T09:13:22.602916Z",
     "iopub.status.busy": "2024-04-08T09:13:22.602397Z",
     "iopub.status.idle": "2024-04-08T09:13:22.640883Z",
     "shell.execute_reply": "2024-04-08T09:13:22.639815Z"
    },
    "papermill": {
     "duration": 0.052718,
     "end_time": "2024-04-08T09:13:22.643548",
     "exception": false,
     "start_time": "2024-04-08T09:13:22.590830",
     "status": "completed"
    },
    "tags": []
   },
   "outputs": [],
   "source": [
    "df['month']=pd.to_datetime(df['month']).dt.month_name()"
   ]
  },
  {
   "cell_type": "code",
   "execution_count": 10,
   "id": "2798f38e",
   "metadata": {
    "execution": {
     "iopub.execute_input": "2024-04-08T09:13:22.666239Z",
     "iopub.status.busy": "2024-04-08T09:13:22.665865Z",
     "iopub.status.idle": "2024-04-08T09:13:22.679681Z",
     "shell.execute_reply": "2024-04-08T09:13:22.678386Z"
    },
    "papermill": {
     "duration": 0.028355,
     "end_time": "2024-04-08T09:13:22.681972",
     "exception": false,
     "start_time": "2024-04-08T09:13:22.653617",
     "status": "completed"
    },
    "tags": []
   },
   "outputs": [
    {
     "data": {
      "text/html": [
       "<div>\n",
       "<style scoped>\n",
       "    .dataframe tbody tr th:only-of-type {\n",
       "        vertical-align: middle;\n",
       "    }\n",
       "\n",
       "    .dataframe tbody tr th {\n",
       "        vertical-align: top;\n",
       "    }\n",
       "\n",
       "    .dataframe thead th {\n",
       "        text-align: right;\n",
       "    }\n",
       "</style>\n",
       "<table border=\"1\" class=\"dataframe\">\n",
       "  <thead>\n",
       "    <tr style=\"text-align: right;\">\n",
       "      <th></th>\n",
       "      <th>year</th>\n",
       "      <th>month</th>\n",
       "      <th>stateDescription</th>\n",
       "      <th>sectorName</th>\n",
       "      <th>price</th>\n",
       "      <th>revenue</th>\n",
       "      <th>sales</th>\n",
       "    </tr>\n",
       "  </thead>\n",
       "  <tbody>\n",
       "    <tr>\n",
       "      <th>0</th>\n",
       "      <td>2001</td>\n",
       "      <td>January</td>\n",
       "      <td>Wyoming</td>\n",
       "      <td>all sectors</td>\n",
       "      <td>4.31</td>\n",
       "      <td>48.12840</td>\n",
       "      <td>1116.17208</td>\n",
       "    </tr>\n",
       "    <tr>\n",
       "      <th>1</th>\n",
       "      <td>2001</td>\n",
       "      <td>January</td>\n",
       "      <td>Wyoming</td>\n",
       "      <td>commercial</td>\n",
       "      <td>5.13</td>\n",
       "      <td>12.67978</td>\n",
       "      <td>247.08691</td>\n",
       "    </tr>\n",
       "  </tbody>\n",
       "</table>\n",
       "</div>"
      ],
      "text/plain": [
       "   year    month stateDescription   sectorName  price   revenue       sales\n",
       "0  2001  January          Wyoming  all sectors   4.31  48.12840  1116.17208\n",
       "1  2001  January          Wyoming   commercial   5.13  12.67978   247.08691"
      ]
     },
     "execution_count": 10,
     "metadata": {},
     "output_type": "execute_result"
    }
   ],
   "source": [
    "df.head(2)"
   ]
  },
  {
   "cell_type": "markdown",
   "id": "dc887482",
   "metadata": {
    "papermill": {
     "duration": 0.010389,
     "end_time": "2024-04-08T09:13:22.703652",
     "exception": false,
     "start_time": "2024-04-08T09:13:22.693263",
     "status": "completed"
    },
    "tags": []
   },
   "source": [
    "***Value counts of state***"
   ]
  },
  {
   "cell_type": "code",
   "execution_count": 11,
   "id": "72626d87",
   "metadata": {
    "execution": {
     "iopub.execute_input": "2024-04-08T09:13:22.727186Z",
     "iopub.status.busy": "2024-04-08T09:13:22.726807Z",
     "iopub.status.idle": "2024-04-08T09:13:22.741706Z",
     "shell.execute_reply": "2024-04-08T09:13:22.740322Z"
    },
    "papermill": {
     "duration": 0.029534,
     "end_time": "2024-04-08T09:13:22.744147",
     "exception": false,
     "start_time": "2024-04-08T09:13:22.714613",
     "status": "completed"
    },
    "tags": []
   },
   "outputs": [
    {
     "data": {
      "text/plain": [
       "stateDescription\n",
       "Wyoming          1385\n",
       "Kansas           1385\n",
       "North Dakota     1385\n",
       "Ohio             1385\n",
       "Oklahoma         1385\n",
       "                 ... \n",
       "Montana          1385\n",
       "Nebraska         1385\n",
       "Nevada           1385\n",
       "New Hampshire    1385\n",
       "Pennsylvania     1385\n",
       "Name: count, Length: 62, dtype: int64"
      ]
     },
     "execution_count": 11,
     "metadata": {},
     "output_type": "execute_result"
    }
   ],
   "source": [
    "df['stateDescription'].value_counts()"
   ]
  },
  {
   "cell_type": "markdown",
   "id": "75185cf6",
   "metadata": {
    "papermill": {
     "duration": 0.010199,
     "end_time": "2024-04-08T09:13:22.764838",
     "exception": false,
     "start_time": "2024-04-08T09:13:22.754639",
     "status": "completed"
    },
    "tags": []
   },
   "source": [
    "***check weightage of sector which provide the electricity***"
   ]
  },
  {
   "cell_type": "code",
   "execution_count": 12,
   "id": "4d4ad771",
   "metadata": {
    "execution": {
     "iopub.execute_input": "2024-04-08T09:13:22.787812Z",
     "iopub.status.busy": "2024-04-08T09:13:22.787100Z",
     "iopub.status.idle": "2024-04-08T09:13:22.801626Z",
     "shell.execute_reply": "2024-04-08T09:13:22.800458Z"
    },
    "papermill": {
     "duration": 0.028783,
     "end_time": "2024-04-08T09:13:22.804057",
     "exception": false,
     "start_time": "2024-04-08T09:13:22.775274",
     "status": "completed"
    },
    "tags": []
   },
   "outputs": [
    {
     "data": {
      "text/plain": [
       "sectorName\n",
       "all sectors       17174\n",
       "commercial        17174\n",
       "industrial        17174\n",
       "residential       17174\n",
       "transportation    15686\n",
       "other              1488\n",
       "Name: count, dtype: int64"
      ]
     },
     "execution_count": 12,
     "metadata": {},
     "output_type": "execute_result"
    }
   ],
   "source": [
    "df['sectorName'].value_counts()"
   ]
  },
  {
   "cell_type": "markdown",
   "id": "2cb9352e",
   "metadata": {
    "papermill": {
     "duration": 0.011376,
     "end_time": "2024-04-08T09:13:22.828516",
     "exception": false,
     "start_time": "2024-04-08T09:13:22.817140",
     "status": "completed"
    },
    "tags": []
   },
   "source": [
    "***Plot the weightage of sector***"
   ]
  },
  {
   "cell_type": "code",
   "execution_count": 13,
   "id": "1446b542",
   "metadata": {
    "execution": {
     "iopub.execute_input": "2024-04-08T09:13:22.851392Z",
     "iopub.status.busy": "2024-04-08T09:13:22.850969Z",
     "iopub.status.idle": "2024-04-08T09:13:24.751805Z",
     "shell.execute_reply": "2024-04-08T09:13:24.750544Z"
    },
    "papermill": {
     "duration": 1.916289,
     "end_time": "2024-04-08T09:13:24.755319",
     "exception": false,
     "start_time": "2024-04-08T09:13:22.839030",
     "status": "completed"
    },
    "tags": []
   },
   "outputs": [
    {
     "data": {
      "image/png": "[encoded data removed]",
      "text/plain": [
       "<Figure size 600x600 with 1 Axes>"
      ]
     },
     "metadata": {},
     "output_type": "display_data"
    }
   ],
   "source": [
    "import matplotlib.pyplot as plt\n",
    "import seaborn as sns\n",
    "plt.figure(figsize=(6,6))\n",
    "df['sectorName'].value_counts().plot(kind='pie',autopct='%1.1f%%',labels=['all sectors','commercial','industrial','residential','transportation','other'],explode=[0,0,0,0,0,0.4])\n",
    "plt.title('Distribution of Sector')\n",
    "plt.ylabel('')\n",
    "plt.show()"
   ]
  },
  {
   "cell_type": "markdown",
   "id": "297c944a",
   "metadata": {
    "papermill": {
     "duration": 0.012412,
     "end_time": "2024-04-08T09:13:24.786540",
     "exception": false,
     "start_time": "2024-04-08T09:13:24.774128",
     "status": "completed"
    },
    "tags": []
   },
   "source": [
    "***Grouping sales by year***"
   ]
  },
  {
   "cell_type": "code",
   "execution_count": 14,
   "id": "df161f43",
   "metadata": {
    "execution": {
     "iopub.execute_input": "2024-04-08T09:13:24.813545Z",
     "iopub.status.busy": "2024-04-08T09:13:24.812535Z",
     "iopub.status.idle": "2024-04-08T09:13:24.832020Z",
     "shell.execute_reply": "2024-04-08T09:13:24.831125Z"
    },
    "papermill": {
     "duration": 0.035712,
     "end_time": "2024-04-08T09:13:24.834277",
     "exception": false,
     "start_time": "2024-04-08T09:13:24.798565",
     "status": "completed"
    },
    "tags": []
   },
   "outputs": [
    {
     "data": {
      "text/html": [
       "<div>\n",
       "<style scoped>\n",
       "    .dataframe tbody tr th:only-of-type {\n",
       "        vertical-align: middle;\n",
       "    }\n",
       "\n",
       "    .dataframe tbody tr th {\n",
       "        vertical-align: top;\n",
       "    }\n",
       "\n",
       "    .dataframe thead th {\n",
       "        text-align: right;\n",
       "    }\n",
       "</style>\n",
       "<table border=\"1\" class=\"dataframe\">\n",
       "  <thead>\n",
       "    <tr style=\"text-align: right;\">\n",
       "      <th></th>\n",
       "      <th>year</th>\n",
       "      <th>sales</th>\n",
       "    </tr>\n",
       "  </thead>\n",
       "  <tbody>\n",
       "    <tr>\n",
       "      <th>0</th>\n",
       "      <td>2001</td>\n",
       "      <td>2.036675e+07</td>\n",
       "    </tr>\n",
       "    <tr>\n",
       "      <th>1</th>\n",
       "      <td>2002</td>\n",
       "      <td>2.079280e+07</td>\n",
       "    </tr>\n",
       "    <tr>\n",
       "      <th>2</th>\n",
       "      <td>2003</td>\n",
       "      <td>2.096241e+07</td>\n",
       "    </tr>\n",
       "    <tr>\n",
       "      <th>3</th>\n",
       "      <td>2004</td>\n",
       "      <td>2.128488e+07</td>\n",
       "    </tr>\n",
       "    <tr>\n",
       "      <th>4</th>\n",
       "      <td>2005</td>\n",
       "      <td>2.196581e+07</td>\n",
       "    </tr>\n",
       "    <tr>\n",
       "      <th>5</th>\n",
       "      <td>2006</td>\n",
       "      <td>2.201951e+07</td>\n",
       "    </tr>\n",
       "    <tr>\n",
       "      <th>6</th>\n",
       "      <td>2007</td>\n",
       "      <td>2.258736e+07</td>\n",
       "    </tr>\n",
       "    <tr>\n",
       "      <th>7</th>\n",
       "      <td>2008</td>\n",
       "      <td>2.240379e+07</td>\n",
       "    </tr>\n",
       "    <tr>\n",
       "      <th>8</th>\n",
       "      <td>2009</td>\n",
       "      <td>2.158077e+07</td>\n",
       "    </tr>\n",
       "    <tr>\n",
       "      <th>9</th>\n",
       "      <td>2010</td>\n",
       "      <td>2.252905e+07</td>\n",
       "    </tr>\n",
       "    <tr>\n",
       "      <th>10</th>\n",
       "      <td>2011</td>\n",
       "      <td>2.249908e+07</td>\n",
       "    </tr>\n",
       "    <tr>\n",
       "      <th>11</th>\n",
       "      <td>2012</td>\n",
       "      <td>2.216790e+07</td>\n",
       "    </tr>\n",
       "    <tr>\n",
       "      <th>12</th>\n",
       "      <td>2013</td>\n",
       "      <td>2.234921e+07</td>\n",
       "    </tr>\n",
       "    <tr>\n",
       "      <th>13</th>\n",
       "      <td>2014</td>\n",
       "      <td>2.258820e+07</td>\n",
       "    </tr>\n",
       "    <tr>\n",
       "      <th>14</th>\n",
       "      <td>2015</td>\n",
       "      <td>2.255395e+07</td>\n",
       "    </tr>\n",
       "    <tr>\n",
       "      <th>15</th>\n",
       "      <td>2016</td>\n",
       "      <td>2.257477e+07</td>\n",
       "    </tr>\n",
       "    <tr>\n",
       "      <th>16</th>\n",
       "      <td>2017</td>\n",
       "      <td>2.234014e+07</td>\n",
       "    </tr>\n",
       "    <tr>\n",
       "      <th>17</th>\n",
       "      <td>2018</td>\n",
       "      <td>2.315511e+07</td>\n",
       "    </tr>\n",
       "    <tr>\n",
       "      <th>18</th>\n",
       "      <td>2019</td>\n",
       "      <td>2.286690e+07</td>\n",
       "    </tr>\n",
       "    <tr>\n",
       "      <th>19</th>\n",
       "      <td>2020</td>\n",
       "      <td>2.230605e+07</td>\n",
       "    </tr>\n",
       "    <tr>\n",
       "      <th>20</th>\n",
       "      <td>2021</td>\n",
       "      <td>2.283525e+07</td>\n",
       "    </tr>\n",
       "    <tr>\n",
       "      <th>21</th>\n",
       "      <td>2022</td>\n",
       "      <td>2.356301e+07</td>\n",
       "    </tr>\n",
       "    <tr>\n",
       "      <th>22</th>\n",
       "      <td>2023</td>\n",
       "      <td>2.316805e+07</td>\n",
       "    </tr>\n",
       "    <tr>\n",
       "      <th>23</th>\n",
       "      <td>2024</td>\n",
       "      <td>2.046062e+06</td>\n",
       "    </tr>\n",
       "  </tbody>\n",
       "</table>\n",
       "</div>"
      ],
      "text/plain": [
       "    year         sales\n",
       "0   2001  2.036675e+07\n",
       "1   2002  2.079280e+07\n",
       "2   2003  2.096241e+07\n",
       "3   2004  2.128488e+07\n",
       "4   2005  2.196581e+07\n",
       "5   2006  2.201951e+07\n",
       "6   2007  2.258736e+07\n",
       "7   2008  2.240379e+07\n",
       "8   2009  2.158077e+07\n",
       "9   2010  2.252905e+07\n",
       "10  2011  2.249908e+07\n",
       "11  2012  2.216790e+07\n",
       "12  2013  2.234921e+07\n",
       "13  2014  2.258820e+07\n",
       "14  2015  2.255395e+07\n",
       "15  2016  2.257477e+07\n",
       "16  2017  2.234014e+07\n",
       "17  2018  2.315511e+07\n",
       "18  2019  2.286690e+07\n",
       "19  2020  2.230605e+07\n",
       "20  2021  2.283525e+07\n",
       "21  2022  2.356301e+07\n",
       "22  2023  2.316805e+07\n",
       "23  2024  2.046062e+06"
      ]
     },
     "execution_count": 14,
     "metadata": {},
     "output_type": "execute_result"
    }
   ],
   "source": [
    "total_sales=df.groupby('year')['sales'].sum().reset_index()\n",
    "total_sales"
   ]
  },
  {
   "cell_type": "markdown",
   "id": "74ada614",
   "metadata": {
    "papermill": {
     "duration": 0.011888,
     "end_time": "2024-04-08T09:13:24.857816",
     "exception": false,
     "start_time": "2024-04-08T09:13:24.845928",
     "status": "completed"
    },
    "tags": []
   },
   "source": [
    "***Import warnings for ignore the warning***"
   ]
  },
  {
   "cell_type": "code",
   "execution_count": 15,
   "id": "2cca7633",
   "metadata": {
    "execution": {
     "iopub.execute_input": "2024-04-08T09:13:24.884627Z",
     "iopub.status.busy": "2024-04-08T09:13:24.883820Z",
     "iopub.status.idle": "2024-04-08T09:13:24.888652Z",
     "shell.execute_reply": "2024-04-08T09:13:24.887758Z"
    },
    "papermill": {
     "duration": 0.020852,
     "end_time": "2024-04-08T09:13:24.890773",
     "exception": false,
     "start_time": "2024-04-08T09:13:24.869921",
     "status": "completed"
    },
    "tags": []
   },
   "outputs": [],
   "source": [
    "import warnings \n",
    "warnings.filterwarnings('ignore')"
   ]
  },
  {
   "cell_type": "markdown",
   "id": "9cbcc583",
   "metadata": {
    "papermill": {
     "duration": 0.012465,
     "end_time": "2024-04-08T09:13:24.914875",
     "exception": false,
     "start_time": "2024-04-08T09:13:24.902410",
     "status": "completed"
    },
    "tags": []
   },
   "source": [
    "***Ploting total sales over the year***"
   ]
  },
  {
   "cell_type": "code",
   "execution_count": 16,
   "id": "40a62772",
   "metadata": {
    "execution": {
     "iopub.execute_input": "2024-04-08T09:13:25.018720Z",
     "iopub.status.busy": "2024-04-08T09:13:25.017975Z",
     "iopub.status.idle": "2024-04-08T09:13:25.349355Z",
     "shell.execute_reply": "2024-04-08T09:13:25.347368Z"
    },
    "papermill": {
     "duration": 0.349127,
     "end_time": "2024-04-08T09:13:25.352059",
     "exception": false,
     "start_time": "2024-04-08T09:13:25.002932",
     "status": "completed"
    },
    "tags": []
   },
   "outputs": [
    {
     "data": {
      "image/png": "[encoded data removed]",
      "text/plain": [
       "<Figure size 1500x600 with 1 Axes>"
      ]
     },
     "metadata": {},
     "output_type": "display_data"
    }
   ],
   "source": [
    "plt.figure(figsize=(15,6))\n",
    "sns.lineplot(data=total_sales.head(23),x='year',y='sales')\n",
    "plt.title('Total sales over the year')\n",
    "plt.xlabel('Sales')\n",
    "plt.ylabel('year')\n",
    "plt.show()"
   ]
  },
  {
   "cell_type": "markdown",
   "id": "6c2bcfab",
   "metadata": {
    "papermill": {
     "duration": 0.013076,
     "end_time": "2024-04-08T09:13:25.377719",
     "exception": false,
     "start_time": "2024-04-08T09:13:25.364643",
     "status": "completed"
    },
    "tags": []
   },
   "source": [
    "***Grouping revenue by year***"
   ]
  },
  {
   "cell_type": "code",
   "execution_count": 17,
   "id": "ceb16a80",
   "metadata": {
    "execution": {
     "iopub.execute_input": "2024-04-08T09:13:25.405407Z",
     "iopub.status.busy": "2024-04-08T09:13:25.404976Z",
     "iopub.status.idle": "2024-04-08T09:13:25.424018Z",
     "shell.execute_reply": "2024-04-08T09:13:25.422523Z"
    },
    "papermill": {
     "duration": 0.035758,
     "end_time": "2024-04-08T09:13:25.426684",
     "exception": false,
     "start_time": "2024-04-08T09:13:25.390926",
     "status": "completed"
    },
    "tags": []
   },
   "outputs": [
    {
     "data": {
      "text/html": [
       "<div>\n",
       "<style scoped>\n",
       "    .dataframe tbody tr th:only-of-type {\n",
       "        vertical-align: middle;\n",
       "    }\n",
       "\n",
       "    .dataframe tbody tr th {\n",
       "        vertical-align: top;\n",
       "    }\n",
       "\n",
       "    .dataframe thead th {\n",
       "        text-align: right;\n",
       "    }\n",
       "</style>\n",
       "<table border=\"1\" class=\"dataframe\">\n",
       "  <thead>\n",
       "    <tr style=\"text-align: right;\">\n",
       "      <th></th>\n",
       "      <th>year</th>\n",
       "      <th>revenue</th>\n",
       "    </tr>\n",
       "  </thead>\n",
       "  <tbody>\n",
       "    <tr>\n",
       "      <th>0</th>\n",
       "      <td>2001</td>\n",
       "      <td>1.484059e+06</td>\n",
       "    </tr>\n",
       "    <tr>\n",
       "      <th>1</th>\n",
       "      <td>2002</td>\n",
       "      <td>1.496463e+06</td>\n",
       "    </tr>\n",
       "    <tr>\n",
       "      <th>2</th>\n",
       "      <td>2003</td>\n",
       "      <td>1.558601e+06</td>\n",
       "    </tr>\n",
       "    <tr>\n",
       "      <th>3</th>\n",
       "      <td>2004</td>\n",
       "      <td>1.620715e+06</td>\n",
       "    </tr>\n",
       "    <tr>\n",
       "      <th>4</th>\n",
       "      <td>2005</td>\n",
       "      <td>1.788017e+06</td>\n",
       "    </tr>\n",
       "    <tr>\n",
       "      <th>5</th>\n",
       "      <td>2006</td>\n",
       "      <td>1.959036e+06</td>\n",
       "    </tr>\n",
       "    <tr>\n",
       "      <th>6</th>\n",
       "      <td>2007</td>\n",
       "      <td>2.062215e+06</td>\n",
       "    </tr>\n",
       "    <tr>\n",
       "      <th>7</th>\n",
       "      <td>2008</td>\n",
       "      <td>2.181499e+06</td>\n",
       "    </tr>\n",
       "    <tr>\n",
       "      <th>8</th>\n",
       "      <td>2009</td>\n",
       "      <td>2.119736e+06</td>\n",
       "    </tr>\n",
       "    <tr>\n",
       "      <th>9</th>\n",
       "      <td>2010</td>\n",
       "      <td>2.213509e+06</td>\n",
       "    </tr>\n",
       "    <tr>\n",
       "      <th>10</th>\n",
       "      <td>2011</td>\n",
       "      <td>2.226295e+06</td>\n",
       "    </tr>\n",
       "    <tr>\n",
       "      <th>11</th>\n",
       "      <td>2012</td>\n",
       "      <td>2.182125e+06</td>\n",
       "    </tr>\n",
       "    <tr>\n",
       "      <th>12</th>\n",
       "      <td>2013</td>\n",
       "      <td>2.250346e+06</td>\n",
       "    </tr>\n",
       "    <tr>\n",
       "      <th>13</th>\n",
       "      <td>2014</td>\n",
       "      <td>2.358578e+06</td>\n",
       "    </tr>\n",
       "    <tr>\n",
       "      <th>14</th>\n",
       "      <td>2015</td>\n",
       "      <td>2.348049e+06</td>\n",
       "    </tr>\n",
       "    <tr>\n",
       "      <th>15</th>\n",
       "      <td>2016</td>\n",
       "      <td>2.319054e+06</td>\n",
       "    </tr>\n",
       "    <tr>\n",
       "      <th>16</th>\n",
       "      <td>2017</td>\n",
       "      <td>2.341934e+06</td>\n",
       "    </tr>\n",
       "    <tr>\n",
       "      <th>17</th>\n",
       "      <td>2018</td>\n",
       "      <td>2.438521e+06</td>\n",
       "    </tr>\n",
       "    <tr>\n",
       "      <th>18</th>\n",
       "      <td>2019</td>\n",
       "      <td>2.410429e+06</td>\n",
       "    </tr>\n",
       "    <tr>\n",
       "      <th>19</th>\n",
       "      <td>2020</td>\n",
       "      <td>2.361837e+06</td>\n",
       "    </tr>\n",
       "    <tr>\n",
       "      <th>20</th>\n",
       "      <td>2021</td>\n",
       "      <td>2.533940e+06</td>\n",
       "    </tr>\n",
       "    <tr>\n",
       "      <th>21</th>\n",
       "      <td>2022</td>\n",
       "      <td>2.911494e+06</td>\n",
       "    </tr>\n",
       "    <tr>\n",
       "      <th>22</th>\n",
       "      <td>2023</td>\n",
       "      <td>2.946743e+06</td>\n",
       "    </tr>\n",
       "    <tr>\n",
       "      <th>23</th>\n",
       "      <td>2024</td>\n",
       "      <td>2.604813e+05</td>\n",
       "    </tr>\n",
       "  </tbody>\n",
       "</table>\n",
       "</div>"
      ],
      "text/plain": [
       "    year       revenue\n",
       "0   2001  1.484059e+06\n",
       "1   2002  1.496463e+06\n",
       "2   2003  1.558601e+06\n",
       "3   2004  1.620715e+06\n",
       "4   2005  1.788017e+06\n",
       "5   2006  1.959036e+06\n",
       "6   2007  2.062215e+06\n",
       "7   2008  2.181499e+06\n",
       "8   2009  2.119736e+06\n",
       "9   2010  2.213509e+06\n",
       "10  2011  2.226295e+06\n",
       "11  2012  2.182125e+06\n",
       "12  2013  2.250346e+06\n",
       "13  2014  2.358578e+06\n",
       "14  2015  2.348049e+06\n",
       "15  2016  2.319054e+06\n",
       "16  2017  2.341934e+06\n",
       "17  2018  2.438521e+06\n",
       "18  2019  2.410429e+06\n",
       "19  2020  2.361837e+06\n",
       "20  2021  2.533940e+06\n",
       "21  2022  2.911494e+06\n",
       "22  2023  2.946743e+06\n",
       "23  2024  2.604813e+05"
      ]
     },
     "execution_count": 17,
     "metadata": {},
     "output_type": "execute_result"
    }
   ],
   "source": [
    "total_revenue=df.groupby('year')['revenue'].sum().reset_index()\n",
    "total_revenue"
   ]
  },
  {
   "cell_type": "markdown",
   "id": "c2b1de0d",
   "metadata": {
    "papermill": {
     "duration": 0.012691,
     "end_time": "2024-04-08T09:13:25.453584",
     "exception": false,
     "start_time": "2024-04-08T09:13:25.440893",
     "status": "completed"
    },
    "tags": []
   },
   "source": [
    "***Ploting the Trend of Revenue over the year***"
   ]
  },
  {
   "cell_type": "code",
   "execution_count": 18,
   "id": "ccd47b14",
   "metadata": {
    "execution": {
     "iopub.execute_input": "2024-04-08T09:13:25.482529Z",
     "iopub.status.busy": "2024-04-08T09:13:25.481592Z",
     "iopub.status.idle": "2024-04-08T09:13:25.808091Z",
     "shell.execute_reply": "2024-04-08T09:13:25.806978Z"
    },
    "papermill": {
     "duration": 0.344214,
     "end_time": "2024-04-08T09:13:25.810744",
     "exception": false,
     "start_time": "2024-04-08T09:13:25.466530",
     "status": "completed"
    },
    "tags": []
   },
   "outputs": [
    {
     "data": {
      "image/png": "[encoded data removed]",
      "text/plain": [
       "<Figure size 1500x600 with 1 Axes>"
      ]
     },
     "metadata": {},
     "output_type": "display_data"
    }
   ],
   "source": [
    "plt.figure(figsize=(15,6))\n",
    "sns.lineplot(data=total_revenue,x='year',y='revenue')\n",
    "plt.title('Trend of Revenue over the year')\n",
    "plt.xlabel('Revenue')\n",
    "plt.ylabel('year')\n",
    "plt.show()"
   ]
  },
  {
   "cell_type": "markdown",
   "id": "f72a4d2c",
   "metadata": {
    "papermill": {
     "duration": 0.012905,
     "end_time": "2024-04-08T09:13:25.836928",
     "exception": false,
     "start_time": "2024-04-08T09:13:25.824023",
     "status": "completed"
    },
    "tags": []
   },
   "source": [
    "***Comparision of sales and revenue over the year***"
   ]
  },
  {
   "cell_type": "code",
   "execution_count": 19,
   "id": "5d41eb34",
   "metadata": {
    "execution": {
     "iopub.execute_input": "2024-04-08T09:13:25.867101Z",
     "iopub.status.busy": "2024-04-08T09:13:25.866403Z",
     "iopub.status.idle": "2024-04-08T09:13:26.230328Z",
     "shell.execute_reply": "2024-04-08T09:13:26.229106Z"
    },
    "papermill": {
     "duration": 0.382429,
     "end_time": "2024-04-08T09:13:26.233090",
     "exception": false,
     "start_time": "2024-04-08T09:13:25.850661",
     "status": "completed"
    },
    "tags": []
   },
   "outputs": [
    {
     "data": {
      "image/png": "[encoded data removed]",
      "text/plain": [
       "<Figure size 1500x600 with 1 Axes>"
      ]
     },
     "metadata": {},
     "output_type": "display_data"
    }
   ],
   "source": [
    "plt.figure(figsize=(15,6))\n",
    "sns.lineplot(data=total_revenue,x='year',y='revenue',marker='o',label='Revenue')\n",
    "sns.lineplot(data=total_sales,x='year',y='sales',marker='o',label='Sales')\n",
    "plt.title('Sales and Revenue over the year')\n",
    "plt.xlabel('Sales and Revenue ')\n",
    "plt.ylabel('year')\n",
    "plt.show()"
   ]
  },
  {
   "cell_type": "markdown",
   "id": "0cadd8d5",
   "metadata": {
    "papermill": {
     "duration": 0.013992,
     "end_time": "2024-04-08T09:13:26.261188",
     "exception": false,
     "start_time": "2024-04-08T09:13:26.247196",
     "status": "completed"
    },
    "tags": []
   },
   "source": [
    "***group the state wise sales***"
   ]
  },
  {
   "cell_type": "code",
   "execution_count": 20,
   "id": "83799a79",
   "metadata": {
    "execution": {
     "iopub.execute_input": "2024-04-08T09:13:26.292061Z",
     "iopub.status.busy": "2024-04-08T09:13:26.291402Z",
     "iopub.status.idle": "2024-04-08T09:13:26.313509Z",
     "shell.execute_reply": "2024-04-08T09:13:26.312179Z"
    },
    "papermill": {
     "duration": 0.041352,
     "end_time": "2024-04-08T09:13:26.317003",
     "exception": false,
     "start_time": "2024-04-08T09:13:26.275651",
     "status": "completed"
    },
    "tags": []
   },
   "outputs": [
    {
     "data": {
      "text/html": [
       "<div>\n",
       "<style scoped>\n",
       "    .dataframe tbody tr th:only-of-type {\n",
       "        vertical-align: middle;\n",
       "    }\n",
       "\n",
       "    .dataframe tbody tr th {\n",
       "        vertical-align: top;\n",
       "    }\n",
       "\n",
       "    .dataframe thead th {\n",
       "        text-align: right;\n",
       "    }\n",
       "</style>\n",
       "<table border=\"1\" class=\"dataframe\">\n",
       "  <thead>\n",
       "    <tr style=\"text-align: right;\">\n",
       "      <th></th>\n",
       "      <th>stateDescription</th>\n",
       "      <th>sales</th>\n",
       "    </tr>\n",
       "  </thead>\n",
       "  <tbody>\n",
       "    <tr>\n",
       "      <th>0</th>\n",
       "      <td>Alabama</td>\n",
       "      <td>4.026660e+06</td>\n",
       "    </tr>\n",
       "    <tr>\n",
       "      <th>1</th>\n",
       "      <td>Alaska</td>\n",
       "      <td>2.788913e+05</td>\n",
       "    </tr>\n",
       "    <tr>\n",
       "      <th>2</th>\n",
       "      <td>Arizona</td>\n",
       "      <td>3.457532e+06</td>\n",
       "    </tr>\n",
       "    <tr>\n",
       "      <th>3</th>\n",
       "      <td>Arkansas</td>\n",
       "      <td>2.141348e+06</td>\n",
       "    </tr>\n",
       "    <tr>\n",
       "      <th>4</th>\n",
       "      <td>California</td>\n",
       "      <td>1.175959e+07</td>\n",
       "    </tr>\n",
       "    <tr>\n",
       "      <th>...</th>\n",
       "      <td>...</td>\n",
       "      <td>...</td>\n",
       "    </tr>\n",
       "    <tr>\n",
       "      <th>57</th>\n",
       "      <td>West North Central</td>\n",
       "      <td>1.337787e+07</td>\n",
       "    </tr>\n",
       "    <tr>\n",
       "      <th>58</th>\n",
       "      <td>West South Central</td>\n",
       "      <td>2.635671e+07</td>\n",
       "    </tr>\n",
       "    <tr>\n",
       "      <th>59</th>\n",
       "      <td>West Virginia</td>\n",
       "      <td>1.457663e+06</td>\n",
       "    </tr>\n",
       "    <tr>\n",
       "      <th>60</th>\n",
       "      <td>Wisconsin</td>\n",
       "      <td>3.179208e+06</td>\n",
       "    </tr>\n",
       "    <tr>\n",
       "      <th>61</th>\n",
       "      <td>Wyoming</td>\n",
       "      <td>7.322910e+05</td>\n",
       "    </tr>\n",
       "  </tbody>\n",
       "</table>\n",
       "<p>62 rows × 2 columns</p>\n",
       "</div>"
      ],
      "text/plain": [
       "      stateDescription         sales\n",
       "0              Alabama  4.026660e+06\n",
       "1               Alaska  2.788913e+05\n",
       "2              Arizona  3.457532e+06\n",
       "3             Arkansas  2.141348e+06\n",
       "4           California  1.175959e+07\n",
       "..                 ...           ...\n",
       "57  West North Central  1.337787e+07\n",
       "58  West South Central  2.635671e+07\n",
       "59       West Virginia  1.457663e+06\n",
       "60           Wisconsin  3.179208e+06\n",
       "61             Wyoming  7.322910e+05\n",
       "\n",
       "[62 rows x 2 columns]"
      ]
     },
     "execution_count": 20,
     "metadata": {},
     "output_type": "execute_result"
    }
   ],
   "source": [
    "state_sales=df.groupby('stateDescription')['sales'].sum().reset_index()\n",
    "state_sales"
   ]
  },
  {
   "cell_type": "markdown",
   "id": "5150ffdd",
   "metadata": {
    "papermill": {
     "duration": 0.019102,
     "end_time": "2024-04-08T09:13:26.358263",
     "exception": false,
     "start_time": "2024-04-08T09:13:26.339161",
     "status": "completed"
    },
    "tags": []
   },
   "source": [
    "***Ploting the sales by state***"
   ]
  },
  {
   "cell_type": "code",
   "execution_count": 21,
   "id": "3889cb3b",
   "metadata": {
    "execution": {
     "iopub.execute_input": "2024-04-08T09:13:26.396059Z",
     "iopub.status.busy": "2024-04-08T09:13:26.395619Z",
     "iopub.status.idle": "2024-04-08T09:13:27.233506Z",
     "shell.execute_reply": "2024-04-08T09:13:27.232400Z"
    },
    "papermill": {
     "duration": 0.857011,
     "end_time": "2024-04-08T09:13:27.236370",
     "exception": false,
     "start_time": "2024-04-08T09:13:26.379359",
     "status": "completed"
    },
    "tags": []
   },
   "outputs": [
    {
     "data": {
      "image/png": "[encoded data removed]",
      "text/plain": [
       "<Figure size 1200x600 with 1 Axes>"
      ]
     },
     "metadata": {},
     "output_type": "display_data"
    }
   ],
   "source": [
    "plt.figure(figsize=(12,6))\n",
    "sns.barplot(data=state_sales,x='stateDescription',y='sales')\n",
    "plt.title('Total Sales by the state ')\n",
    "plt.xlabel('State')\n",
    "plt.ylabel('sales')\n",
    "plt.xticks(rotation=90)\n",
    "plt.show()"
   ]
  },
  {
   "cell_type": "markdown",
   "id": "1e4c3953",
   "metadata": {
    "papermill": {
     "duration": 0.015601,
     "end_time": "2024-04-08T09:13:27.268057",
     "exception": false,
     "start_time": "2024-04-08T09:13:27.252456",
     "status": "completed"
    },
    "tags": []
   },
   "source": [
    "***Grouping the sales by sector***"
   ]
  },
  {
   "cell_type": "code",
   "execution_count": 22,
   "id": "8bb2bc7d",
   "metadata": {
    "execution": {
     "iopub.execute_input": "2024-04-08T09:13:27.302651Z",
     "iopub.status.busy": "2024-04-08T09:13:27.301594Z",
     "iopub.status.idle": "2024-04-08T09:13:27.318526Z",
     "shell.execute_reply": "2024-04-08T09:13:27.317400Z"
    },
    "papermill": {
     "duration": 0.036783,
     "end_time": "2024-04-08T09:13:27.321006",
     "exception": false,
     "start_time": "2024-04-08T09:13:27.284223",
     "status": "completed"
    },
    "tags": []
   },
   "outputs": [
    {
     "data": {
      "text/plain": [
       "sectorName\n",
       "all sectors       2.567534e+08\n",
       "commercial        9.049624e+07\n",
       "industrial        6.891553e+07\n",
       "other             6.561768e+05\n",
       "residential       9.621918e+07\n",
       "transportation    4.662672e+05\n",
       "Name: sales, dtype: float64"
      ]
     },
     "execution_count": 22,
     "metadata": {},
     "output_type": "execute_result"
    }
   ],
   "source": [
    "sector_wise_sales=df.groupby('sectorName')['sales'].sum()\n",
    "sector_wise_sales"
   ]
  },
  {
   "cell_type": "markdown",
   "id": "1231d50f",
   "metadata": {
    "papermill": {
     "duration": 0.016183,
     "end_time": "2024-04-08T09:13:27.354755",
     "exception": false,
     "start_time": "2024-04-08T09:13:27.338572",
     "status": "completed"
    },
    "tags": []
   },
   "source": [
    "***Sales according to sector***"
   ]
  },
  {
   "cell_type": "code",
   "execution_count": 23,
   "id": "25485607",
   "metadata": {
    "execution": {
     "iopub.execute_input": "2024-04-08T09:13:27.391839Z",
     "iopub.status.busy": "2024-04-08T09:13:27.391391Z",
     "iopub.status.idle": "2024-04-08T09:13:27.598770Z",
     "shell.execute_reply": "2024-04-08T09:13:27.597470Z"
    },
    "papermill": {
     "duration": 0.229322,
     "end_time": "2024-04-08T09:13:27.602503",
     "exception": false,
     "start_time": "2024-04-08T09:13:27.373181",
     "status": "completed"
    },
    "tags": []
   },
   "outputs": [
    {
     "data": {
      "image/png": "[encoded data removed]",
      "text/plain": [
       "<Figure size 700x700 with 1 Axes>"
      ]
     },
     "metadata": {},
     "output_type": "display_data"
    }
   ],
   "source": [
    "plt.figure(figsize=(7,7))\n",
    "sector_wise_sales.plot(kind='pie',autopct='%1.1f%%',labels=['all sectors','commercial','industrial',\n",
    "                                                          'other','residential','transportation']\n",
    "                      ,explode=[0,0,0,0.4,0,0.4])\n",
    "plt.title('Sales according to sector')\n",
    "plt.ylabel('')\n",
    "plt.show()\n"
   ]
  },
  {
   "cell_type": "markdown",
   "id": "fb098aa1",
   "metadata": {
    "papermill": {
     "duration": 0.016751,
     "end_time": "2024-04-08T09:13:27.642107",
     "exception": false,
     "start_time": "2024-04-08T09:13:27.625356",
     "status": "completed"
    },
    "tags": []
   },
   "source": [
    "***Month wise sales***"
   ]
  },
  {
   "cell_type": "code",
   "execution_count": 24,
   "id": "d871761b",
   "metadata": {
    "execution": {
     "iopub.execute_input": "2024-04-08T09:13:27.682571Z",
     "iopub.status.busy": "2024-04-08T09:13:27.681858Z",
     "iopub.status.idle": "2024-04-08T09:13:27.698364Z",
     "shell.execute_reply": "2024-04-08T09:13:27.697528Z"
    },
    "papermill": {
     "duration": 0.037654,
     "end_time": "2024-04-08T09:13:27.700587",
     "exception": false,
     "start_time": "2024-04-08T09:13:27.662933",
     "status": "completed"
    },
    "tags": []
   },
   "outputs": [
    {
     "data": {
      "text/plain": [
       "month\n",
       "January    5.135068e+08\n",
       "Name: sales, dtype: float64"
      ]
     },
     "execution_count": 24,
     "metadata": {},
     "output_type": "execute_result"
    }
   ],
   "source": [
    "df.groupby('month')['sales'].sum()"
   ]
  },
  {
   "cell_type": "code",
   "execution_count": 25,
   "id": "b28852ce",
   "metadata": {
    "execution": {
     "iopub.execute_input": "2024-04-08T09:13:27.737768Z",
     "iopub.status.busy": "2024-04-08T09:13:27.737295Z",
     "iopub.status.idle": "2024-04-08T09:13:27.754041Z",
     "shell.execute_reply": "2024-04-08T09:13:27.752944Z"
    },
    "papermill": {
     "duration": 0.038703,
     "end_time": "2024-04-08T09:13:27.756546",
     "exception": false,
     "start_time": "2024-04-08T09:13:27.717843",
     "status": "completed"
    },
    "tags": []
   },
   "outputs": [
    {
     "data": {
      "text/plain": [
       "month\n",
       "January    85870\n",
       "Name: count, dtype: int64"
      ]
     },
     "execution_count": 25,
     "metadata": {},
     "output_type": "execute_result"
    }
   ],
   "source": [
    "df['month'].value_counts()"
   ]
  },
  {
   "cell_type": "code",
   "execution_count": null,
   "id": "e2b121f5",
   "metadata": {
    "papermill": {
     "duration": 0.017247,
     "end_time": "2024-04-08T09:13:27.791178",
     "exception": false,
     "start_time": "2024-04-08T09:13:27.773931",
     "status": "completed"
    },
    "tags": []
   },
   "outputs": [],
   "source": []
  }
 ],
 "metadata": {
  "kaggle": {
   "accelerator": "none",
   "dataSources": [
    {
     "datasetId": 4752222,
     "sourceId": 8057104,
     "sourceType": "datasetVersion"
    }
   ],
   "dockerImageVersionId": 30673,
   "isGpuEnabled": false,
   "isInternetEnabled": true,
   "language": "python",
   "sourceType": "notebook"
  },
  "kernelspec": {
   "display_name": "Python 3",
   "language": "python",
   "name": "python3"
  },
  "language_info": {
   "codemirror_mode": {
    "name": "ipython",
    "version": 3
   },
   "file_extension": ".py",
   "mimetype": "text/x-python",
   "name": "python",
   "nbconvert_exporter": "python",
   "pygments_lexer": "ipython3",
   "version": "3.10.13"
  },
  "papermill": {
   "default_parameters": {},
   "duration": 10.815517,
   "end_time": "2024-04-08T09:13:28.630604",
   "environment_variables": {},
   "exception": null,
   "input_path": "__notebook__.ipynb",
   "output_path": "__notebook__.ipynb",
   "parameters": {},
   "start_time": "2024-04-08T09:13:17.815087",
   "version": "2.5.0"
  }
 },
 "nbformat": 4,
 "nbformat_minor": 5
}
