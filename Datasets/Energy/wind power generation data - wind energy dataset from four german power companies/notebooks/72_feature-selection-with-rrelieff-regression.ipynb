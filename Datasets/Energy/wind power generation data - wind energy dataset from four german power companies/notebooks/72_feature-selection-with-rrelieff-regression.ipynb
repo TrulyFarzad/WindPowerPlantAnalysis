{
 "cells": [
  {
   "cell_type": "markdown",
   "metadata": {
    "papermill": {
     "duration": 0.014394,
     "end_time": "2021-01-19T21:11:08.598057",
     "exception": false,
     "start_time": "2021-01-19T21:11:08.583663",
     "status": "completed"
    },
    "tags": []
   },
   "source": [
    "![](https://www.iberdrola.com/wcorp/gc/prod/pt_BR/comunicacion/machine_learning_mult_1_res/machine_learning_746x419.jpg)"
   ]
  },
  {
   "cell_type": "markdown",
   "metadata": {
    "papermill": {
     "duration": 0.010347,
     "end_time": "2021-01-19T21:11:08.619211",
     "exception": false,
     "start_time": "2021-01-19T21:11:08.608864",
     "status": "completed"
    },
    "tags": []
   },
   "source": [
    "### Table of Contents"
   ]
  },
  {
   "cell_type": "markdown",
   "metadata": {
    "papermill": {
     "duration": 0.010156,
     "end_time": "2021-01-19T21:11:08.639714",
     "exception": false,
     "start_time": "2021-01-19T21:11:08.629558",
     "status": "completed"
    },
    "tags": []
   },
   "source": [
    "1. [Introduction](#1.-Introduction)\n",
    "\n",
    "2. [Base Libraries](#2.-Base-Libraries)\n",
    "\n",
    "3. [Data Preprocessing](#3.-Data-Preprocessing)\n",
    "\n",
    "4. [Feature Selection](#4.-Feature-Selection)\n",
    "\n",
    "5. [Conclusions](#5.-Conclusions)\n",
    "\n",
    "6. [References](#6.-References)"
   ]
  },
  {
   "cell_type": "markdown",
   "metadata": {
    "papermill": {
     "duration": 0.010089,
     "end_time": "2021-01-19T21:11:08.660361",
     "exception": false,
     "start_time": "2021-01-19T21:11:08.650272",
     "status": "completed"
    },
    "tags": []
   },
   "source": [
    "# 1. Introduction"
   ]
  },
  {
   "cell_type": "markdown",
   "metadata": {
    "papermill": {
     "duration": 0.010184,
     "end_time": "2021-01-19T21:11:08.681057",
     "exception": false,
     "start_time": "2021-01-19T21:11:08.670873",
     "status": "completed"
    },
    "tags": []
   },
   "source": [
    "During my studies, I tried to find a good example (or notebook) about RReliefF (Relief for Regression). Unfortunately, I couldn't find anything that suited my needs, as there were many examples for Classification, and almost none for Regression. So, I decided to collaborate with the Kaggle community and create an example of how to use RReliefF. To achieve this goal, I used the sklearn_relief library (https://gitlab.com/moongoal/sklearn-relief)\n",
    "\n",
    "Relief is an algorithm developed by Kira and Rendell in 1992 that takes a filter-method approach to feature selection that is notably sensitive to feature interactions. It was originally designed for application to binary classification problems with discrete or numerical features. Relief calculates a feature score for each feature which can then be applied to rank and select top scoring features for feature selection. \n",
    "\n",
    "Robnik-Šikonja and Kononenko propose further updates to ReliefF, making it appropriate for regression (RReliefF, the focus of this notebook)"
   ]
  },
  {
   "cell_type": "markdown",
   "metadata": {
    "papermill": {
     "duration": 0.010477,
     "end_time": "2021-01-19T21:11:08.701830",
     "exception": false,
     "start_time": "2021-01-19T21:11:08.691353",
     "status": "completed"
    },
    "tags": []
   },
   "source": [
    "# 2. Base Libraries"
   ]
  },
  {
   "cell_type": "markdown",
   "metadata": {
    "papermill": {
     "duration": 0.010224,
     "end_time": "2021-01-19T21:11:08.722873",
     "exception": false,
     "start_time": "2021-01-19T21:11:08.712649",
     "status": "completed"
    },
    "tags": []
   },
   "source": [
    "First, the basic libraries are imported: **pandas**, **matplotlib**, **seaborn**, **numpy** to Dataframes, Graphs and numeric operations; **MinMaxScaler** to normalize our data between 0 and 1, **train_test_split** to help split the dataset (usually 70% training/ 30% testing). We'll use **power_transform** to make data more Gaussian-like, **RandomForestRegressor** to wrap the RReliefF algorithm on the second example, and **sklearn_relief** for obvious reasons"
   ]
  },
  {
   "cell_type": "code",
   "execution_count": 1,
   "metadata": {
    "execution": {
     "iopub.execute_input": "2021-01-19T21:11:08.750540Z",
     "iopub.status.busy": "2021-01-19T21:11:08.749694Z",
     "iopub.status.idle": "2021-01-19T21:11:18.433748Z",
     "shell.execute_reply": "2021-01-19T21:11:18.433079Z"
    },
    "papermill": {
     "duration": 9.700639,
     "end_time": "2021-01-19T21:11:18.433886",
     "exception": false,
     "start_time": "2021-01-19T21:11:08.733247",
     "status": "completed"
    },
    "tags": []
   },
   "outputs": [
    {
     "name": "stdout",
     "output_type": "stream",
     "text": [
      "Collecting sklearn_relief\r\n",
      "  Downloading sklearn_relief-1.0.0b2-py3-none-any.whl (8.7 kB)\r\n",
      "Requirement already satisfied: scipy>=1.0.0 in /opt/conda/lib/python3.7/site-packages (from sklearn_relief) (1.4.1)\r\n",
      "Requirement already satisfied: scikit-learn>=0.19.1 in /opt/conda/lib/python3.7/site-packages (from sklearn_relief) (0.23.2)\r\n",
      "Requirement already satisfied: numpy>=1.13.3 in /opt/conda/lib/python3.7/site-packages (from sklearn_relief) (1.18.5)\r\n",
      "Requirement already satisfied: joblib>=0.11 in /opt/conda/lib/python3.7/site-packages (from scikit-learn>=0.19.1->sklearn_relief) (0.14.1)\r\n",
      "Requirement already satisfied: threadpoolctl>=2.0.0 in /opt/conda/lib/python3.7/site-packages (from scikit-learn>=0.19.1->sklearn_relief) (2.1.0)\r\n",
      "Requirement already satisfied: scipy>=1.0.0 in /opt/conda/lib/python3.7/site-packages (from sklearn_relief) (1.4.1)\r\n",
      "Requirement already satisfied: numpy>=1.13.3 in /opt/conda/lib/python3.7/site-packages (from sklearn_relief) (1.18.5)\r\n",
      "Requirement already satisfied: numpy>=1.13.3 in /opt/conda/lib/python3.7/site-packages (from sklearn_relief) (1.18.5)\r\n",
      "Installing collected packages: sklearn-relief\r\n",
      "Successfully installed sklearn-relief-1.0.0b2\r\n",
      "\u001b[33mWARNING: You are using pip version 20.3.1; however, version 20.3.3 is available.\r\n",
      "You should consider upgrading via the '/opt/conda/bin/python3.7 -m pip install --upgrade pip' command.\u001b[0m\r\n"
     ]
    }
   ],
   "source": [
    "!pip install sklearn_relief"
   ]
  },
  {
   "cell_type": "code",
   "execution_count": 2,
   "metadata": {
    "execution": {
     "iopub.execute_input": "2021-01-19T21:11:18.466437Z",
     "iopub.status.busy": "2021-01-19T21:11:18.465758Z",
     "iopub.status.idle": "2021-01-19T21:11:20.137626Z",
     "shell.execute_reply": "2021-01-19T21:11:20.137110Z"
    },
    "papermill": {
     "duration": 1.690955,
     "end_time": "2021-01-19T21:11:20.137747",
     "exception": false,
     "start_time": "2021-01-19T21:11:18.446792",
     "status": "completed"
    },
    "tags": []
   },
   "outputs": [],
   "source": [
    "# Base Libraries\n",
    "import numpy as np \n",
    "import pandas as pd\n",
    "import matplotlib.pyplot as plt\n",
    "import seaborn as sns\n",
    "import os\n",
    "# Transformation\n",
    "from sklearn.preprocessing import MinMaxScaler\n",
    "from sklearn.preprocessing import power_transform\n",
    "from sklearn.pipeline import Pipeline\n",
    "# Feature Selection\n",
    "import sklearn_relief as sr\n",
    "# Models\n",
    "from sklearn.model_selection import train_test_split\n",
    "from sklearn.ensemble import RandomForestRegressor\n"
   ]
  },
  {
   "cell_type": "markdown",
   "metadata": {
    "papermill": {
     "duration": 0.011654,
     "end_time": "2021-01-19T21:11:20.161771",
     "exception": false,
     "start_time": "2021-01-19T21:11:20.150117",
     "status": "completed"
    },
    "tags": []
   },
   "source": [
    "# 3. Data Preprocessing"
   ]
  },
  {
   "cell_type": "markdown",
   "metadata": {
    "papermill": {
     "duration": 0.011808,
     "end_time": "2021-01-19T21:11:20.185558",
     "exception": false,
     "start_time": "2021-01-19T21:11:20.173750",
     "status": "completed"
    },
    "tags": []
   },
   "source": [
    "The main focus of this kernel is the RReliefF algorithm, but let's spend some time on the data preprocessing, to make our job easier."
   ]
  },
  {
   "cell_type": "code",
   "execution_count": 3,
   "metadata": {
    "execution": {
     "iopub.execute_input": "2021-01-19T21:11:20.237057Z",
     "iopub.status.busy": "2021-01-19T21:11:20.236357Z",
     "iopub.status.idle": "2021-01-19T21:11:21.487374Z",
     "shell.execute_reply": "2021-01-19T21:11:21.486824Z"
    },
    "papermill": {
     "duration": 1.289912,
     "end_time": "2021-01-19T21:11:21.487483",
     "exception": false,
     "start_time": "2021-01-19T21:11:20.197571",
     "status": "completed"
    },
    "tags": []
   },
   "outputs": [
    {
     "data": {
      "text/plain": [
       "<matplotlib.axes._subplots.AxesSubplot at 0x7fbab6e6f850>"
      ]
     },
     "execution_count": 3,
     "metadata": {},
     "output_type": "execute_result"
    },
    {
     "data": {
      "image/png": "[encoded data removed]",
      "text/plain": [
       "<Figure size 2160x432 with 2 Axes>"
      ]
     },
     "metadata": {
      "needs_background": "light"
     },
     "output_type": "display_data"
    }
   ],
   "source": [
    "df_amp = pd.read_csv('../input/wind-power-generation/Amprion.csv')\n",
    "dates = df_amp['Date']\n",
    "df_amp = df_amp.T\n",
    "df_amp = df_amp[1:]\n",
    "df_amp.columns = [dates]\n",
    "\n",
    "df_amp.reset_index(drop=True, inplace=True)\n",
    "\n",
    "scaler = MinMaxScaler()\n",
    "\n",
    "df_amp = power_transform(df_amp, method='yeo-johnson')\n",
    "df_amp = scaler.fit_transform(df_amp)\n",
    "\n",
    "X = df_amp[:,0:396]\n",
    "y = df_amp[:,396]\n",
    "\n",
    "# (optional) plot train & test\n",
    "fig, ax=plt.subplots(1,2,figsize=(30, 6))\n",
    "sns.distplot(X, ax=ax[0])\n",
    "sns.distplot(y, ax=ax[1])\n",
    "\n"
   ]
  },
  {
   "cell_type": "markdown",
   "metadata": {
    "papermill": {
     "duration": 0.013876,
     "end_time": "2021-01-19T21:11:21.515490",
     "exception": false,
     "start_time": "2021-01-19T21:11:21.501614",
     "status": "completed"
    },
    "tags": []
   },
   "source": [
    "Here, the data will be imported, transposed so that we can use the days of the year as parameters, transformed using the **yeo-johnson** method and presented to see if they are resembling a Gaussian pattern."
   ]
  },
  {
   "cell_type": "markdown",
   "metadata": {
    "papermill": {
     "duration": 0.013741,
     "end_time": "2021-01-19T21:11:21.543621",
     "exception": false,
     "start_time": "2021-01-19T21:11:21.529880",
     "status": "completed"
    },
    "tags": []
   },
   "source": [
    "# 4. Feature Selection"
   ]
  },
  {
   "cell_type": "markdown",
   "metadata": {
    "papermill": {
     "duration": 0.013554,
     "end_time": "2021-01-19T21:11:21.571833",
     "exception": false,
     "start_time": "2021-01-19T21:11:21.558279",
     "status": "completed"
    },
    "tags": []
   },
   "source": [
    "A large variety of feature selection methodologies have been proposed and research continues to support the claim that there is no universal “best” method for all tasks. In this section, the RReliefF is described in Filter and Wrapped Methods"
   ]
  },
  {
   "cell_type": "markdown",
   "metadata": {
    "papermill": {
     "duration": 0.014016,
     "end_time": "2021-01-19T21:11:21.600166",
     "exception": false,
     "start_time": "2021-01-19T21:11:21.586150",
     "status": "completed"
    },
    "tags": []
   },
   "source": [
    "## 4.1 Filter Method"
   ]
  },
  {
   "cell_type": "markdown",
   "metadata": {
    "papermill": {
     "duration": 0.01539,
     "end_time": "2021-01-19T21:11:21.630194",
     "exception": false,
     "start_time": "2021-01-19T21:11:21.614804",
     "status": "completed"
    },
    "tags": []
   },
   "source": [
    "This method uses a ‘proxy measure’ calculated from the general characteristics of the training data to score features or feature subsets as a processing step prior to modeling. Filters are generally **much faster and function independently** of the induction algorithm, meaning that selected features can then be passed to any modeling algorithm. Filter methods can be roughly classified further by the filtering measures they employ, i.e. information, distance, dependence, consistency, similarity, and statistical measures."
   ]
  },
  {
   "cell_type": "code",
   "execution_count": 4,
   "metadata": {
    "execution": {
     "iopub.execute_input": "2021-01-19T21:11:21.667233Z",
     "iopub.status.busy": "2021-01-19T21:11:21.665653Z",
     "iopub.status.idle": "2021-01-19T21:11:43.983170Z",
     "shell.execute_reply": "2021-01-19T21:11:43.981810Z"
    },
    "papermill": {
     "duration": 22.338121,
     "end_time": "2021-01-19T21:11:43.983341",
     "exception": false,
     "start_time": "2021-01-19T21:11:21.645220",
     "status": "completed"
    },
    "tags": []
   },
   "outputs": [
    {
     "name": "stdout",
     "output_type": "stream",
     "text": [
      "[[0.89415851 0.36422555 0.62621622 ... 0.45517032 0.71635848 0.6717487 ]\n",
      " [0.67871428 0.48460741 0.74877678 ... 0.         0.83808516 0.32459573]\n",
      " [0.96491183 0.36422555 0.50591949 ... 0.56246492 0.655395   0.77543588]\n",
      " ...\n",
      " [0.77175778 0.54000668 0.56577229 ... 0.         0.83808516 0.2379575 ]\n",
      " [0.60169922 0.60478506 0.62621622 ... 0.17679116 0.63505834 0.2818013 ]\n",
      " [0.60169922 0.70105142 0.44668632 ... 0.24122983 0.51286805 0.44732296]]\n"
     ]
    }
   ],
   "source": [
    "X_train, X_test, y_train, y_test = train_test_split(X,y, test_size = 0.3, random_state = 0)\n",
    "r = sr.RReliefF(n_features = 20)\n",
    "print(r.fit_transform(X_train,y_train))"
   ]
  },
  {
   "cell_type": "markdown",
   "metadata": {
    "papermill": {
     "duration": 0.014088,
     "end_time": "2021-01-19T21:11:44.012154",
     "exception": false,
     "start_time": "2021-01-19T21:11:43.998066",
     "status": "completed"
    },
    "tags": []
   },
   "source": [
    "Accordingly to the original implementation, a RReliefF used in filter method will rank all the features, based on importance. "
   ]
  },
  {
   "cell_type": "markdown",
   "metadata": {
    "papermill": {
     "duration": 0.014016,
     "end_time": "2021-01-19T21:11:44.040506",
     "exception": false,
     "start_time": "2021-01-19T21:11:44.026490",
     "status": "completed"
    },
    "tags": []
   },
   "source": [
    "## 4.2 Wrapper Method"
   ]
  },
  {
   "cell_type": "markdown",
   "metadata": {
    "papermill": {
     "duration": 0.014042,
     "end_time": "2021-01-19T21:11:44.068874",
     "exception": false,
     "start_time": "2021-01-19T21:11:44.054832",
     "status": "completed"
    },
    "tags": []
   },
   "source": [
    "The best definition to this method: It **employs any stand-alone modeling algorithm to train a predictive model using a candidate feature subset**. The testing performance on a hold-out set is typically used to score the feature set. Alternatively in a modeling algorithm like a random forest (that I used in this example) , estimated feature importance scores can be applied to select a feature subset. In any wrapper method, a new model must be trained to test any subsequent feature subset, therefore wrapper methods are typically iterative and computationally intensive, but **can identify the best performing features set for that specific modeling algorithm**. Each iteration of the wrapper, the feature subset is generated based on the selected search strategy, e.g. forward or backward selection or a heuristic feature subset selection."
   ]
  },
  {
   "cell_type": "code",
   "execution_count": 5,
   "metadata": {
    "_cell_guid": "79c7e3d0-c299-4dcb-8224-4455121ee9b0",
    "_uuid": "d629ff2d2480ee46fbb7e2d37f6b5fab8052498a",
    "execution": {
     "iopub.execute_input": "2021-01-19T21:11:44.245027Z",
     "iopub.status.busy": "2021-01-19T21:11:44.108455Z",
     "iopub.status.idle": "2021-01-19T21:18:44.329037Z",
     "shell.execute_reply": "2021-01-19T21:18:44.328484Z"
    },
    "papermill": {
     "duration": 420.245821,
     "end_time": "2021-01-19T21:18:44.329157",
     "exception": false,
     "start_time": "2021-01-19T21:11:44.083336",
     "status": "completed"
    },
    "tags": []
   },
   "outputs": [
    {
     "name": "stdout",
     "output_type": "stream",
     "text": [
      "NOF: 1, Score: 0.27932192631210495\n",
      "NOF: 2, Score: 0.8067238532284904\n",
      "NOF: 3, Score: 0.8348164368593122\n",
      "NOF: 4, Score: 0.8124319724040306\n",
      "NOF: 5, Score: 0.8474549568954182\n",
      "NOF: 6, Score: 0.9157598564164556\n",
      "NOF: 7, Score: 0.8756264187735247\n",
      "NOF: 8, Score: 0.8323628488343459\n",
      "NOF: 9, Score: 0.8398673745530933\n",
      "NOF: 10, Score: 0.8764731102720663\n",
      "NOF: 11, Score: 0.7998208214099225\n",
      "NOF: 12, Score: 0.8763158290958883\n",
      "NOF: 13, Score: 0.8464276299034257\n",
      "NOF: 14, Score: 0.8944675569202869\n",
      "NOF: 15, Score: 0.8703602147095988\n",
      "NOF: 16, Score: 0.8587723558021587\n",
      "NOF: 17, Score: 0.874746504302209\n",
      "NOF: 18, Score: 0.876438617106388\n",
      "NOF: 19, Score: 0.8066324211755413\n",
      "High Score: NOF: 6, Score: 0.9157598564164556\n",
      "None\n"
     ]
    }
   ],
   "source": [
    "nof_list=np.arange(1,20)            \n",
    "high_score=0\n",
    "nof=0           \n",
    "score_list =[]\n",
    "for n in range(len(nof_list)):\n",
    "    X_train, X_test, y_train, y_test = train_test_split(X,y, test_size = 0.3, random_state = 0)\n",
    "    fs = sr.RReliefF(n_features = nof_list[n])\n",
    "    relief = Pipeline([('fs', fs), ('m', RandomForestRegressor())])\n",
    "    relief.fit(X_train,y_train)\n",
    "    score = relief.score(X_test,y_test)\n",
    "    score_list.append(score)\n",
    "    print(f'NOF: {nof_list[n]}, Score: {score}')\n",
    "    if(score > high_score):\n",
    "        high_score = score\n",
    "        nof = nof_list[n]\n",
    "\n",
    "print (print(f'High Score: NOF: {nof}, Score: {high_score}'))"
   ]
  },
  {
   "cell_type": "markdown",
   "metadata": {
    "papermill": {
     "duration": 0.018544,
     "end_time": "2021-01-19T21:18:44.366705",
     "exception": false,
     "start_time": "2021-01-19T21:18:44.348161",
     "status": "completed"
    },
    "tags": []
   },
   "source": [
    "In this case, I wrapped the RReliefF algorithm in an Random Forest Regressor pipeline. The RF hyperparametrization wasn't done, but of course it can be used to improve even more the accuracy of this model. Here, the model is tested with n between 1 and 20 features, giving us the best values for this dataset."
   ]
  },
  {
   "cell_type": "markdown",
   "metadata": {
    "papermill": {
     "duration": 0.018472,
     "end_time": "2021-01-19T21:18:44.403881",
     "exception": false,
     "start_time": "2021-01-19T21:18:44.385409",
     "status": "completed"
    },
    "tags": []
   },
   "source": [
    "## 5. Conclusions"
   ]
  },
  {
   "cell_type": "markdown",
   "metadata": {
    "papermill": {
     "duration": 0.018407,
     "end_time": "2021-01-19T21:18:44.440899",
     "exception": false,
     "start_time": "2021-01-19T21:18:44.422492",
     "status": "completed"
    },
    "tags": []
   },
   "source": [
    "Accordinly to the original paper, RReliefF can **discover strong dependencies between attributes**, while in domains without such dependencies it **performs the same as the mean squared error**. It is also robust and noise tolerant. Its intrinsic contextual nature allows it to recognize contextual attributes. From paper's original experimental results, it's concluded that learning regression trees with RReliefF is promising especially in combination with linear models in the leaves of the tree."
   ]
  },
  {
   "cell_type": "markdown",
   "metadata": {
    "papermill": {
     "duration": 0.018468,
     "end_time": "2021-01-19T21:18:44.478206",
     "exception": false,
     "start_time": "2021-01-19T21:18:44.459738",
     "status": "completed"
    },
    "tags": []
   },
   "source": [
    "## 6. References"
   ]
  },
  {
   "cell_type": "markdown",
   "metadata": {
    "papermill": {
     "duration": 0.01821,
     "end_time": "2021-01-19T21:18:44.515180",
     "exception": false,
     "start_time": "2021-01-19T21:18:44.496970",
     "status": "completed"
    },
    "tags": []
   },
   "source": [
    "[1] Bolon-Canedo, V., Sanchez-Marono, N., Alonso-Betanzos, A., 2013. A Review of Feature Selection\n",
    "Methods on Synthetic data. Knowledge and Information Systems 34 (3), 483–519.\n",
    "\n",
    "[2] Dash, M., Liu, H., 1997. Feature Selection for Classification. Intelligent Data Analysis 1 (1-4), 131–156.\n",
    "\n",
    "[3] Guyon, I., Elisseeff, A., 2003. An Introduction to Variable and Feature Selection. Journal of Machine\n",
    "Learning Research 3 (Mar), 1157–1182.\n",
    "\n",
    "[4] Holland, J. H., 1992. Adaptation in Natural and Artificial Systems. 1975. Ann Arbor, MI: University\n",
    "of Michigan Press.\n",
    "\n",
    "[5] Jovic, A., Brkic, K., Bogunovic, N., 2015. A Review of Feature Selection Methods with Applications. In: Information and Communication Technology, Electronics and Microelectronics (MIPRO), 2015 38th\n",
    "International Convention on. IEEE, pp. 1200–1205.\n",
    "\n",
    "[6] Kira, Kenji and Rendell, Larry (1992). The Feature Selection Problem: Traditional Methods and a New Algorithm. AAAI-92 Proceedings.\n",
    "\n",
    "[7] Kira, Kenji and Rendell, Larry (1992) A Practical Approach to Feature Selection, Proceedings of the Ninth International Workshop on Machine Learning, p249-256\n",
    "\n",
    "[8] Kittler, J., 1978. Feature set Search algorithms. Pattern Recognition and Signal Processing.\n",
    "\n",
    "[9] Langley, P., 1994. Selection of Relevant Features in Machine Learning. In: Proceedings of the AAAI Fall Symposium on Relevance. Vol. 184. pp. 245–271\n",
    "\n",
    "[10] Menze, B. H., Kelm, B. M., Masuch, R., Himmelreich, U., Bachert, P., Petrich, W., Hamprecht, F. A., 2009. A Comparison of Random Forest and its Gini Importance with Standard Chemometric Methods for the Feature Selection and Classification of Spectral Data. BMC Bioinformatics 10 (1), 213\n",
    "\n",
    "[11] Ni, W., 2012. A Review and Comparative Study on Univariate Feature Selection Techniques. Ph.D. thesis, University of Cincinnati.\n",
    "\n",
    "[12] Robnik-Šikonja, Marko, and Kononenko, Igor (1997). An Adaptation of Relief for Attribute Estimation in Regression. Machine Learning: Proceedings of the Fourteenth International Conference (ICML’97) (p296-304)\n",
    "\n",
    "[13] Van Laarhoven, P. J., Aarts, E. H., 1987. Simulated Annealing. In: Simulated Annealing: Theory and\n",
    "Applications. Springer, pp. 7–15."
   ]
  }
 ],
 "metadata": {
  "kernelspec": {
   "display_name": "Python 3",
   "language": "python",
   "name": "python3"
  },
  "language_info": {
   "codemirror_mode": {
    "name": "ipython",
    "version": 3
   },
   "file_extension": ".py",
   "mimetype": "text/x-python",
   "name": "python",
   "nbconvert_exporter": "python",
   "pygments_lexer": "ipython3",
   "version": "3.7.6"
  },
  "papermill": {
   "duration": 461.392402,
   "end_time": "2021-01-19T21:18:44.643099",
   "environment_variables": {},
   "exception": null,
   "input_path": "__notebook__.ipynb",
   "output_path": "__notebook__.ipynb",
   "parameters": {},
   "start_time": "2021-01-19T21:11:03.250697",
   "version": "2.1.0"
  }
 },
 "nbformat": 4,
 "nbformat_minor": 4
}
